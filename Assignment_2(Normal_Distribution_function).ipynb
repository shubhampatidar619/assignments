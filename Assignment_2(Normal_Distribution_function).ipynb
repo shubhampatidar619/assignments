{
 "cells": [
  {
   "cell_type": "markdown",
   "metadata": {
    "id": "LTXepJinJsGy"
   },
   "source": [
    "**1.\tThe time required for servicing transmissions is normally distributed with  = 45 minutes and  = 8 minutes. The service manager plans to have work begin on the transmission of a customer’s car 10 minutes after the car is dropped off and the customer is told that the car will be ready within 1 hour from drop-off. What is the probability that the service manager cannot meet his commitment? **"
   ]
  },
  {
   "cell_type": "code",
   "execution_count": 1,
   "metadata": {
    "ExecuteTime": {
     "end_time": "2023-01-12T09:56:51.390507Z",
     "start_time": "2023-01-12T09:56:51.333742Z"
    },
    "colab": {
     "base_uri": "https://localhost:8080/",
     "height": 53
    },
    "id": "Dp1cMIjfb86f",
    "outputId": "8fd4dda0-889c-4b2f-c236-21bc51a85780"
   },
   "outputs": [
    {
     "data": {
      "text/plain": [
       "'work begins 10 mins after car  dropped  the time left to complete work is 50 mins\\nprobablility that service manager cannot meet his commitment = p(X>50) = p(x<= 50)\\nstandard normal veriable Z = (X- μ)/σ = P((50-45)/8) = 0.625\\nPr(Z<=(50-45)/8) = 0.73237 = 73.237%\\nthe probablity that service manager will not meet his commitment: 100-73.237 = 26.76% = 0.2676'"
      ]
     },
     "execution_count": 1,
     "metadata": {},
     "output_type": "execute_result"
    }
   ],
   "source": [
    "'''work begins 10 mins after car  dropped  the time left to complete work is 50 mins\n",
    "probablility that service manager cannot meet his commitment = p(X>50) = p(x<= 50)\n",
    "standard normal veriable Z = (X- μ)/σ = P((50-45)/8) = 0.625\n",
    "Pr(Z<=(50-45)/8) = 0.73237 = 73.237%\n",
    "the probablity that service manager will not meet his commitment: 100-73.237 = 26.76% = 0.2676'''"
   ]
  },
  {
   "cell_type": "markdown",
   "metadata": {
    "id": "0xOvi2Mq7zbs"
   },
   "source": [
    "1.\tThe current age (in years) of 400 clerical employees at an insurance claims processing center is normally distributed with mean  = 38 and Standard deviation  =6. For each statement below, please specify True/False. If false, briefly explain why.\n",
    "A.\tMore employees at the processing center are older than 44 than between 38 and 44.\n",
    "B.\tA training program for employees under the age of 30 at the center would be expected to attract about 36 employees. **bold text**\n"
   ]
  },
  {
   "cell_type": "code",
   "execution_count": 2,
   "metadata": {
    "ExecuteTime": {
     "end_time": "2023-01-12T09:56:53.075818Z",
     "start_time": "2023-01-12T09:56:51.390507Z"
    },
    "id": "QC43FJmw7yt7"
   },
   "outputs": [],
   "source": [
    "from scipy import stats\n",
    "from scipy.stats import norm"
   ]
  },
  {
   "cell_type": "code",
   "execution_count": 3,
   "metadata": {
    "ExecuteTime": {
     "end_time": "2023-01-12T09:56:53.091742Z",
     "start_time": "2023-01-12T09:56:53.075818Z"
    },
    "id": "MtMdRAqD3Q5s"
   },
   "outputs": [],
   "source": [
    "\n",
    "# A. More employees at the processing center are older than 44 than between 38 and 44."
   ]
  },
  {
   "cell_type": "code",
   "execution_count": 4,
   "metadata": {
    "ExecuteTime": {
     "end_time": "2023-01-12T09:56:53.115730Z",
     "start_time": "2023-01-12T09:56:53.099737Z"
    },
    "colab": {
     "base_uri": "https://localhost:8080/"
    },
    "id": "kFHPAoZJ3Rug",
    "outputId": "338dcb66-2dbd-4f15-ce42-9275d27d3ede"
   },
   "outputs": [
    {
     "data": {
      "text/plain": [
       "0.15865525393145707"
      ]
     },
     "execution_count": 4,
     "metadata": {},
     "output_type": "execute_result"
    }
   ],
   "source": [
    "# p(X>44); Employees older than 44 yrs of age\n",
    "1-stats.norm.cdf(44,loc=38,scale=6)"
   ]
  },
  {
   "cell_type": "code",
   "execution_count": 5,
   "metadata": {
    "ExecuteTime": {
     "end_time": "2023-01-12T09:56:53.139836Z",
     "start_time": "2023-01-12T09:56:53.115730Z"
    },
    "colab": {
     "base_uri": "https://localhost:8080/"
    },
    "id": "jhzxN2s_3f-M",
    "outputId": "9277947d-fc28-486e-e1cb-d0e066fd6ba6"
   },
   "outputs": [
    {
     "data": {
      "text/plain": [
       "0.3413447460685429"
      ]
     },
     "execution_count": 5,
     "metadata": {},
     "output_type": "execute_result"
    }
   ],
   "source": [
    "# p(38)\n",
    "stats.norm.cdf(44,38,6)-stats.norm.cdf(38,38,6)"
   ]
  },
  {
   "cell_type": "code",
   "execution_count": 6,
   "metadata": {
    "ExecuteTime": {
     "end_time": "2023-01-12T09:56:53.155795Z",
     "start_time": "2023-01-12T09:56:53.139836Z"
    },
    "id": "j3rLZfBI3tuX"
   },
   "outputs": [],
   "source": [
    "# B. A training program for employees under the age of 30 at the center would be expected to attract about 36 employees.\n"
   ]
  },
  {
   "cell_type": "code",
   "execution_count": 7,
   "metadata": {
    "ExecuteTime": {
     "end_time": "2023-01-12T09:56:53.171790Z",
     "start_time": "2023-01-12T09:56:53.155795Z"
    },
    "colab": {
     "base_uri": "https://localhost:8080/"
    },
    "id": "979OYKYA32zU",
    "outputId": "9fda134e-4419-4a4b-9ad7-2e3c3cfbafa3"
   },
   "outputs": [
    {
     "data": {
      "text/plain": [
       "0.09121121972586788"
      ]
     },
     "execution_count": 7,
     "metadata": {},
     "output_type": "execute_result"
    }
   ],
   "source": [
    "# P(X<30); Employees under 30 yrs of age\n",
    "stats.norm.cdf(30,38,6)\n"
   ]
  },
  {
   "cell_type": "code",
   "execution_count": 8,
   "metadata": {
    "ExecuteTime": {
     "end_time": "2023-01-12T09:56:53.187801Z",
     "start_time": "2023-01-12T09:56:53.171790Z"
    },
    "colab": {
     "base_uri": "https://localhost:8080/"
    },
    "id": "tHEyBf-Q35zG",
    "outputId": "0f4aa79b-3f7a-40e8-c2ed-3d8999e7d654"
   },
   "outputs": [
    {
     "data": {
      "text/plain": [
       "36.484487890347154"
      ]
     },
     "execution_count": 8,
     "metadata": {},
     "output_type": "execute_result"
    }
   ],
   "source": [
    "# No. of employees attending training program from 400 nos. is N*P(X<30)\n",
    "400*stats.norm.cdf(30,38,6)\n"
   ]
  },
  {
   "cell_type": "markdown",
   "metadata": {
    "id": "de1kFYYo4vz9"
   },
   "source": [
    "**3.\tIf X1 ~ N(μ, σ2) and X2 ~ N(μ, σ2) are iid normal random variables, then what is the difference between 2 X1 and X1 + X2? Discuss both their distributions and parameters.       **"
   ]
  },
  {
   "cell_type": "code",
   "execution_count": 9,
   "metadata": {
    "ExecuteTime": {
     "end_time": "2023-01-12T09:56:53.220400Z",
     "start_time": "2023-01-12T09:56:53.195791Z"
    },
    "colab": {
     "base_uri": "https://localhost:8080/",
     "height": 53
    },
    "id": "ZrcrI0p941gC",
    "outputId": "20fd6ed7-f84c-4342-a970-044d162b1067"
   },
   "outputs": [
    {
     "data": {
      "text/plain": [
       "'As we know that if  X ∼ N(µ1, σ1^2 ), and  Y ∼ N(µ2, σ2^2 ) are two independent  random variables then   X + Y ∼ N(µ1 + µ2, σ1^2 + σ2^2 ) , and      X − Y ∼ N(µ1 − µ2, σ1^2 + σ2^2 ) .\\nSimilarly if  Z = aX + bY , where X and Y are as defined above, i.e Z is linear combination of X and Y , then Z ∼ N(aµ1 + bµ2, a^2σ1^2 + b^2σ2^2 ).\\nTherefore in the question \\n2X1~ N(2 u,4 σ^2) and \\nX1+X2 ~  N(µ + µ, σ^2 + σ^2 ) ~ N(2 u, 2σ^2 )\\n2X1-(X1+X2) = N( 4µ,6 σ^2) '"
      ]
     },
     "execution_count": 9,
     "metadata": {},
     "output_type": "execute_result"
    }
   ],
   "source": [
    "'''As we know that if  X ∼ N(µ1, σ1^2 ), and  Y ∼ N(µ2, σ2^2 ) are two independent  random variables then   X + Y ∼ N(µ1 + µ2, σ1^2 + σ2^2 ) , and      X − Y ∼ N(µ1 − µ2, σ1^2 + σ2^2 ) .\n",
    "Similarly if  Z = aX + bY , where X and Y are as defined above, i.e Z is linear combination of X and Y , then Z ∼ N(aµ1 + bµ2, a^2σ1^2 + b^2σ2^2 ).\n",
    "Therefore in the question \n",
    "2X1~ N(2 u,4 σ^2) and \n",
    "X1+X2 ~  N(µ + µ, σ^2 + σ^2 ) ~ N(2 u, 2σ^2 )\n",
    "2X1-(X1+X2) = N( 4µ,6 σ^2) '''"
   ]
  },
  {
   "cell_type": "markdown",
   "metadata": {
    "id": "Dl4yMH_Mc0bC"
   },
   "source": [
    "4.\tLet X ~ N(100, 202). Find two values, a and b, symmetric about the mean, such that the probability of the random variable taking a value between them is 0.99. \n",
    "**bold text**\n"
   ]
  },
  {
   "cell_type": "code",
   "execution_count": 10,
   "metadata": {
    "ExecuteTime": {
     "end_time": "2023-01-12T09:56:53.236409Z",
     "start_time": "2023-01-12T09:56:53.220400Z"
    },
    "id": "KHNgXhhBcgVv"
   },
   "outputs": [],
   "source": [
    "\n",
    "from scipy import stats\n",
    "from scipy.stats import norm\n"
   ]
  },
  {
   "cell_type": "code",
   "execution_count": 11,
   "metadata": {
    "ExecuteTime": {
     "end_time": "2023-01-12T09:56:53.252407Z",
     "start_time": "2023-01-12T09:56:53.236409Z"
    },
    "colab": {
     "base_uri": "https://localhost:8080/"
    },
    "id": "re7UblgVdHbY",
    "outputId": "53300e87-32ba-4b85-ef62-3fd8a4d17792"
   },
   "outputs": [
    {
     "data": {
      "text/plain": [
       "(48.48341392902199, 151.516586070978)"
      ]
     },
     "execution_count": 11,
     "metadata": {},
     "output_type": "execute_result"
    }
   ],
   "source": [
    "\n",
    "stats.norm.interval(0.99,100,20)"
   ]
  },
  {
   "cell_type": "markdown",
   "metadata": {
    "id": "wTbpmQ1YdRvh"
   },
   "source": []
  },
  {
   "cell_type": "markdown",
   "metadata": {
    "id": "GDYUupWYeYoW"
   },
   "source": [
    "5.\tConsider a company that has two different divisions. The annual profits from the two divisions are independent and have distributions Profit1 ~ N(5, 32) and Profit2 ~ N(7, 42) respectively. Both the profits are in $ Million. Answer the following questions about the total profit of the company in Rupees. Assume that $1 = Rs. 45\n",
    "A.\tSpecify a Rupee range (centered on the mean) such that it contains 95% probability for the annual profit of the company.\n",
    "B.\tSpecify the 5th percentile of profit (in Rupees) for the company\n",
    "C.\tWhich of the two divisions has a larger probability of making a loss in a given year?\n",
    "**bold text**"
   ]
  },
  {
   "cell_type": "code",
   "execution_count": 12,
   "metadata": {
    "ExecuteTime": {
     "end_time": "2023-01-12T09:56:53.268428Z",
     "start_time": "2023-01-12T09:56:53.252407Z"
    },
    "id": "f7HsGsXCegWp"
   },
   "outputs": [],
   "source": [
    "import numpy as np\n",
    "from scipy import stats\n",
    "from scipy.stats import norm"
   ]
  },
  {
   "cell_type": "code",
   "execution_count": 13,
   "metadata": {
    "ExecuteTime": {
     "end_time": "2023-01-12T09:56:53.284405Z",
     "start_time": "2023-01-12T09:56:53.268428Z"
    },
    "colab": {
     "base_uri": "https://localhost:8080/"
    },
    "id": "M4b401Y0dMqN",
    "outputId": "5ee85240-ec08-415f-8ac7-6b95cdddc07e"
   },
   "outputs": [
    {
     "name": "stdout",
     "output_type": "stream",
     "text": [
      "Mean Profit is Rs 540 Million\n"
     ]
    }
   ],
   "source": [
    "# Mean profits from two different divisions of a company = Mean1 + Mean2\n",
    "Mean = 5+7\n",
    "print('Mean Profit is Rs', Mean*45,'Million')\n"
   ]
  },
  {
   "cell_type": "code",
   "execution_count": 14,
   "metadata": {
    "ExecuteTime": {
     "end_time": "2023-01-12T09:56:53.300411Z",
     "start_time": "2023-01-12T09:56:53.284405Z"
    },
    "colab": {
     "base_uri": "https://localhost:8080/"
    },
    "id": "ydRoKMNRe5n0",
    "outputId": "08cd03cf-e6cc-48d3-cb45-9750e9df3d9f"
   },
   "outputs": [
    {
     "name": "stdout",
     "output_type": "stream",
     "text": [
      "Standard Deviation is Rs 225.0 Million\n"
     ]
    }
   ],
   "source": [
    "# Variance of profits from two different divisions of a company = SD^2 = SD1^2 + SD2^2\n",
    "SD = np.sqrt((9)+(16))\n",
    "print('Standard Deviation is Rs', SD*45, 'Million')\n"
   ]
  },
  {
   "cell_type": "code",
   "execution_count": 15,
   "metadata": {
    "ExecuteTime": {
     "end_time": "2023-01-12T09:56:53.316422Z",
     "start_time": "2023-01-12T09:56:53.300411Z"
    },
    "colab": {
     "base_uri": "https://localhost:8080/"
    },
    "id": "DREexQ3qe_BV",
    "outputId": "28779e4f-d208-400a-fc6c-260e7237c32a"
   },
   "outputs": [
    {
     "name": "stdout",
     "output_type": "stream",
     "text": [
      "Range is Rs (99.00810347848784, 980.9918965215122) in Millions\n"
     ]
    }
   ],
   "source": [
    "# A. Specify a Rupee range (centered on the mean) such that it contains 95% probability for the annual profit of the company.\n",
    "print('Range is Rs',(stats.norm.interval(0.95,540,225)),'in Millions')\n"
   ]
  },
  {
   "cell_type": "code",
   "execution_count": 16,
   "metadata": {
    "ExecuteTime": {
     "end_time": "2023-01-12T09:56:53.348539Z",
     "start_time": "2023-01-12T09:56:53.324473Z"
    },
    "colab": {
     "base_uri": "https://localhost:8080/"
    },
    "id": "o5kObTUtgBdZ",
    "outputId": "d360b18b-d5e5-484a-8206-da5d089cab2d"
   },
   "outputs": [
    {
     "name": "stdout",
     "output_type": "stream",
     "text": [
      "5th percentile of profit (in Million Rupees) is 170.0\n"
     ]
    }
   ],
   "source": [
    "\n",
    "# B. Specify the 5th percentile of profit (in Rupees) for the company\n",
    "# To compute 5th Percentile, we use the formula X=μ + Zσ; wherein from z table, 5 percentile = -1.645\n",
    "X= 540+(-1.645)*(225)\n",
    "print('5th percentile of profit (in Million Rupees) is',np.round(X,))\n"
   ]
  },
  {
   "cell_type": "code",
   "execution_count": 17,
   "metadata": {
    "ExecuteTime": {
     "end_time": "2023-01-12T09:56:53.380610Z",
     "start_time": "2023-01-12T09:56:53.357629Z"
    },
    "colab": {
     "base_uri": "https://localhost:8080/"
    },
    "id": "NruYR3ozgYfV",
    "outputId": "2987d253-17ba-42d6-a296-d7497bb2b967"
   },
   "outputs": [
    {
     "data": {
      "text/plain": [
       "0.0477903522728147"
      ]
     },
     "execution_count": 17,
     "metadata": {},
     "output_type": "execute_result"
    }
   ],
   "source": [
    "# C. Which of the two divisions has a larger probability of making a loss in a given year?\n",
    "# Probability of Division 1 making a loss P(X<0)\n",
    "stats.norm.cdf(0,5,3)\n"
   ]
  }
 ],
 "metadata": {
  "colab": {
   "provenance": []
  },
  "kernelspec": {
   "display_name": "Python 3 (ipykernel)",
   "language": "python",
   "name": "python3"
  },
  "language_info": {
   "codemirror_mode": {
    "name": "ipython",
    "version": 3
   },
   "file_extension": ".py",
   "mimetype": "text/x-python",
   "name": "python",
   "nbconvert_exporter": "python",
   "pygments_lexer": "ipython3",
   "version": "3.10.9"
  }
 },
 "nbformat": 4,
 "nbformat_minor": 1
}
