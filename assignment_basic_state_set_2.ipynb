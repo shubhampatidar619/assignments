{
 "cells": [
  {
   "cell_type": "markdown",
   "id": "6769e744",
   "metadata": {},
   "source": [
    "#### 1.\tThe time required for servicing transmissions is normally distributed with  = 45 minutes and  = 8 minutes. The service manager plans to have work begin on the transmission of a customer’s car 10 minutes after the car is dropped off and the customer is told that the car will be ready within 1 hour from drop-off. What is the probability that the service manager cannot meet his commitment? "
   ]
  },
  {
   "cell_type": "markdown",
   "id": "2cd68022",
   "metadata": {},
   "source": [
    "#### Mean = 45 mins\n",
    "#### Std = 8 mins"
   ]
  },
  {
   "cell_type": "code",
   "execution_count": 1,
   "id": "d0347d68",
   "metadata": {
    "ExecuteTime": {
     "end_time": "2023-09-06T13:38:07.188800Z",
     "start_time": "2023-09-06T13:38:07.168435Z"
    }
   },
   "outputs": [],
   "source": [
    "#The service manager plans to have work begin on the transmission of a customer’s car 10 minutes after the car is dropped off and the customer is told that the car will be ready within 1 hour from drop-off. \n",
    "#So the complete time should be x= 50mins\n",
    "#mean = 45mins ,std = 8mins"
   ]
  },
  {
   "cell_type": "code",
   "execution_count": 2,
   "id": "62525fae",
   "metadata": {
    "ExecuteTime": {
     "end_time": "2023-09-06T13:38:09.686697Z",
     "start_time": "2023-09-06T13:38:07.192800Z"
    }
   },
   "outputs": [
    {
     "data": {
      "text/plain": [
       "0.26598552904870054"
      ]
     },
     "execution_count": 2,
     "metadata": {},
     "output_type": "execute_result"
    }
   ],
   "source": [
    "#probability that the service manager cant meet his commitment\n",
    "from scipy import stats\n",
    "p = 1-stats.norm.cdf(50,45,8)\n",
    "p"
   ]
  },
  {
   "cell_type": "markdown",
   "id": "07c557f0",
   "metadata": {},
   "source": [
    "#### 2.\tThe current age (in years) of 400 clerical employees at an insurance claims processing center is normally distributed with mean  = 38 and Standard deviation  =6. For each statement below, please specify True/False. If false, briefly explain why.\n",
    "#### A.\tMore employees at the processing center are older than 44 than between 38 and 44.\n"
   ]
  },
  {
   "cell_type": "code",
   "execution_count": 3,
   "id": "d850aa72",
   "metadata": {
    "ExecuteTime": {
     "end_time": "2023-09-06T13:38:09.703324Z",
     "start_time": "2023-09-06T13:38:09.693288Z"
    }
   },
   "outputs": [
    {
     "data": {
      "text/plain": [
       "(0.15865525393145707, 0.3413447460685429)"
      ]
     },
     "execution_count": 3,
     "metadata": {},
     "output_type": "execute_result"
    }
   ],
   "source": [
    "#probability of employees older than 44\n",
    "p_44 = 1-stats.norm.cdf(44,38,6)\n",
    "p_38_44 = stats.norm.cdf(44,38,6) - stats.norm.cdf(38,38,6)\n",
    "p_44,p_38_44"
   ]
  },
  {
   "cell_type": "code",
   "execution_count": 4,
   "id": "0786a814",
   "metadata": {
    "ExecuteTime": {
     "end_time": "2023-09-06T13:38:09.718212Z",
     "start_time": "2023-09-06T13:38:09.705524Z"
    }
   },
   "outputs": [
    {
     "name": "stdout",
     "output_type": "stream",
     "text": [
      "False\n"
     ]
    }
   ],
   "source": [
    "if (p_44>p_38_44):\n",
    "    print(\"True\")\n",
    "else:\n",
    "    print(\"False\")"
   ]
  },
  {
   "cell_type": "code",
   "execution_count": 5,
   "id": "2bd1db17",
   "metadata": {
    "ExecuteTime": {
     "end_time": "2023-09-06T13:38:09.734030Z",
     "start_time": "2023-09-06T13:38:09.725029Z"
    }
   },
   "outputs": [],
   "source": [
    "# As probability of employees older than 44 is less than probability of employees between 38 and 44 ,thats why statement is false."
   ]
  },
  {
   "cell_type": "markdown",
   "id": "763e4837",
   "metadata": {},
   "source": [
    "#### B.\tA training program for employees under the age of 30 at the center would be expected to attract about 36 employees.\n"
   ]
  },
  {
   "cell_type": "code",
   "execution_count": 6,
   "id": "dbe4da5b",
   "metadata": {
    "ExecuteTime": {
     "end_time": "2023-09-06T13:38:09.766294Z",
     "start_time": "2023-09-06T13:38:09.740136Z"
    }
   },
   "outputs": [
    {
     "data": {
      "text/plain": [
       "0.09121121972586788"
      ]
     },
     "execution_count": 6,
     "metadata": {},
     "output_type": "execute_result"
    }
   ],
   "source": [
    "# Probability of employees under age 30\n",
    "p_30 = stats.norm.cdf(30,38,6)\n",
    "p_30"
   ]
  },
  {
   "cell_type": "code",
   "execution_count": 7,
   "id": "790857f4",
   "metadata": {
    "ExecuteTime": {
     "end_time": "2023-09-06T13:38:09.797231Z",
     "start_time": "2023-09-06T13:38:09.774246Z"
    }
   },
   "outputs": [
    {
     "data": {
      "text/plain": [
       "36.484487890347154"
      ]
     },
     "execution_count": 7,
     "metadata": {},
     "output_type": "execute_result"
    }
   ],
   "source": [
    "# Expected Employees\n",
    "exp_emp = 400*p_30\n",
    "exp_emp"
   ]
  },
  {
   "cell_type": "code",
   "execution_count": 8,
   "id": "397cff0d",
   "metadata": {
    "ExecuteTime": {
     "end_time": "2023-09-06T13:38:09.812914Z",
     "start_time": "2023-09-06T13:38:09.804125Z"
    }
   },
   "outputs": [],
   "source": [
    "# As the expected value comes 36 ,thats why statement is true."
   ]
  },
  {
   "cell_type": "markdown",
   "id": "92dc2699",
   "metadata": {},
   "source": [
    "#### 3.\tIf X1 ~ N(μ, σ2) and X2 ~ N(μ, σ2) are iid normal random variables, then what is the difference between 2 X1 and X1 + X2? Discuss both their distributions and parameters.       "
   ]
  },
  {
   "cell_type": "code",
   "execution_count": 9,
   "id": "1f35a5b4",
   "metadata": {
    "ExecuteTime": {
     "end_time": "2023-09-06T13:38:09.829084Z",
     "start_time": "2023-09-06T13:38:09.819432Z"
    }
   },
   "outputs": [],
   "source": [
    "# if x1 and y1 are normally distributed then both 2x1 and x1+x2 will also be normally normally distributed."
   ]
  },
  {
   "cell_type": "markdown",
   "id": "0bd099eb",
   "metadata": {},
   "source": [
    "#### 4.\tLet X ~ N(100, 202). Find two values, a and b, symmetric about the mean, such that the probability of the random variable taking a value between them is 0.99. \n",
    "\n"
   ]
  },
  {
   "cell_type": "code",
   "execution_count": 10,
   "id": "fad7cde7",
   "metadata": {
    "ExecuteTime": {
     "end_time": "2023-09-06T13:38:09.860755Z",
     "start_time": "2023-09-06T13:38:09.840238Z"
    }
   },
   "outputs": [],
   "source": [
    "from scipy import stats\n",
    "from scipy.stats import norm"
   ]
  },
  {
   "cell_type": "code",
   "execution_count": 11,
   "id": "c95cec8c",
   "metadata": {
    "ExecuteTime": {
     "end_time": "2023-09-06T13:38:09.892553Z",
     "start_time": "2023-09-06T13:38:09.866829Z"
    }
   },
   "outputs": [
    {
     "data": {
      "text/plain": [
       "(48.48341392902199, 151.516586070978)"
      ]
     },
     "execution_count": 11,
     "metadata": {},
     "output_type": "execute_result"
    }
   ],
   "source": [
    "stats.norm.interval(0.99,100,20)"
   ]
  },
  {
   "cell_type": "markdown",
   "id": "3a1e8d0f",
   "metadata": {},
   "source": [
    "#### 5.\tConsider a company that has two different divisions. The annual profits from the two divisions are independent and have distributions Profit1 ~ N(5, 3) and Profit2 ~ N(7, 4) respectively. Both the profits are in  Million .Answer the following questions about the total profit of the company in Rupees. Assume that dollar 1 = Rs. 45\n"
   ]
  },
  {
   "cell_type": "code",
   "execution_count": 12,
   "id": "713b77be",
   "metadata": {
    "ExecuteTime": {
     "end_time": "2023-09-06T13:38:09.908559Z",
     "start_time": "2023-09-06T13:38:09.900672Z"
    }
   },
   "outputs": [],
   "source": [
    "import numpy as np\n",
    "from scipy import stats\n",
    "from scipy.stats import norm"
   ]
  },
  {
   "cell_type": "code",
   "execution_count": 13,
   "id": "f31d144d",
   "metadata": {
    "ExecuteTime": {
     "end_time": "2023-09-06T13:38:09.939234Z",
     "start_time": "2023-09-06T13:38:09.915672Z"
    }
   },
   "outputs": [
    {
     "name": "stdout",
     "output_type": "stream",
     "text": [
      "Mean Profit is Rs. 540\n"
     ]
    }
   ],
   "source": [
    "# Mean profits from two different divisions of a company = Mean1 + Mean2\n",
    "Mean = 5+7\n",
    "print('Mean Profit is Rs.', Mean*45)"
   ]
  },
  {
   "cell_type": "code",
   "execution_count": 14,
   "id": "3cc116da",
   "metadata": {
    "ExecuteTime": {
     "end_time": "2023-09-06T13:38:09.954326Z",
     "start_time": "2023-09-06T13:38:09.944263Z"
    }
   },
   "outputs": [
    {
     "name": "stdout",
     "output_type": "stream",
     "text": [
      "Standard Deviation is Rs. 225.0\n"
     ]
    }
   ],
   "source": [
    "# Variance of profits from two different divisions of a company = SD^2 = SD1^2 + SD2^2\n",
    "SD = np.sqrt((9)+(16))\n",
    "print('Standard Deviation is Rs.', SD*45)"
   ]
  },
  {
   "cell_type": "code",
   "execution_count": 15,
   "id": "80c6ca1f",
   "metadata": {
    "ExecuteTime": {
     "end_time": "2023-09-06T13:38:09.985601Z",
     "start_time": "2023-09-06T13:38:09.960390Z"
    }
   },
   "outputs": [
    {
     "name": "stdout",
     "output_type": "stream",
     "text": [
      "Range is Rs. (99.00810347848784, 980.9918965215122)\n"
     ]
    }
   ],
   "source": [
    "# A. Specify a Rupee range (centered on the mean) such that it contains 95% probability for the annual profit of the company.\n",
    "print('Range is Rs.',(stats.norm.interval(0.95,540,225)))"
   ]
  },
  {
   "cell_type": "code",
   "execution_count": 16,
   "id": "9dcaab82",
   "metadata": {
    "ExecuteTime": {
     "end_time": "2023-09-06T13:38:10.017369Z",
     "start_time": "2023-09-06T13:38:09.991518Z"
    }
   },
   "outputs": [
    {
     "name": "stdout",
     "output_type": "stream",
     "text": [
      "5th percentile of profit (in Million Rupees) is 170.0\n"
     ]
    }
   ],
   "source": [
    "# B. Specify the 5th percentile of profit (in Rupees) for the company\n",
    "# To compute 5th Percentile, we use the formula X=μ + Zσ; wherein from z table, 5 percentile = -1.645\n",
    "X= 540+(-1.645)*(225)\n",
    "print('5th percentile of profit (in Million Rupees) is',np.round(X,))"
   ]
  },
  {
   "cell_type": "code",
   "execution_count": 17,
   "id": "7250e102",
   "metadata": {
    "ExecuteTime": {
     "end_time": "2023-09-06T13:38:10.048360Z",
     "start_time": "2023-09-06T13:38:10.024377Z"
    }
   },
   "outputs": [
    {
     "data": {
      "text/plain": [
       "0.0477903522728147"
      ]
     },
     "execution_count": 17,
     "metadata": {},
     "output_type": "execute_result"
    }
   ],
   "source": [
    "# C. Which of the two divisions has a larger probability of making a loss in a given year?\n",
    "# Probability of Division 1 making a loss P(X<0)\n",
    "d1 = stats.norm.cdf(0,5,3)\n",
    "d1"
   ]
  },
  {
   "cell_type": "code",
   "execution_count": 18,
   "id": "787cadff",
   "metadata": {
    "ExecuteTime": {
     "end_time": "2023-09-06T13:38:10.063617Z",
     "start_time": "2023-09-06T13:38:10.055338Z"
    }
   },
   "outputs": [
    {
     "data": {
      "text/plain": [
       "0.040059156863817086"
      ]
     },
     "execution_count": 18,
     "metadata": {},
     "output_type": "execute_result"
    }
   ],
   "source": [
    "# Probability of Division 2 making a loss P(X<0)\n",
    "d2 = stats.norm.cdf(0,7,4)\n",
    "d2"
   ]
  },
  {
   "cell_type": "code",
   "execution_count": 19,
   "id": "d65aae3a",
   "metadata": {
    "ExecuteTime": {
     "end_time": "2023-09-06T13:38:10.094370Z",
     "start_time": "2023-09-06T13:38:10.072233Z"
    }
   },
   "outputs": [
    {
     "name": "stdout",
     "output_type": "stream",
     "text": [
      "division1 has a larger probability of making a loss in a given year\n"
     ]
    }
   ],
   "source": [
    "if d1>d2:\n",
    "    print(\"division1 has a larger probability of making a loss in a given year\")\n",
    "else:\n",
    "    print(\"division2 has a larger probability of making a loss in a given year\")"
   ]
  },
  {
   "cell_type": "code",
   "execution_count": null,
   "id": "b7a72336",
   "metadata": {},
   "outputs": [],
   "source": []
  }
 ],
 "metadata": {
  "kernelspec": {
   "display_name": "Python 3 (ipykernel)",
   "language": "python",
   "name": "python3"
  },
  "language_info": {
   "codemirror_mode": {
    "name": "ipython",
    "version": 3
   },
   "file_extension": ".py",
   "mimetype": "text/x-python",
   "name": "python",
   "nbconvert_exporter": "python",
   "pygments_lexer": "ipython3",
   "version": "3.10.9"
  }
 },
 "nbformat": 4,
 "nbformat_minor": 5
}
